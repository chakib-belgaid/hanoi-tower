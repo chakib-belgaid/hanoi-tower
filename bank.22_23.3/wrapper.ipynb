{
 "cells": [
  {
   "cell_type": "code",
   "execution_count": 2,
   "metadata": {},
   "outputs": [],
   "source": [
    "#mylist = !(ls | egrep .*.events )"
   ]
  },
  {
   "cell_type": "code",
   "execution_count": 11,
   "metadata": {},
   "outputs": [],
   "source": [
    "testdirs = !(ls | egrep test ) # to get all dirs\n",
    "mylist={}\n",
    "for dir in testdirs :\n",
    "    x = !(ls $dir |egrep .*.events )# each element of the list represent an implementat\n",
    "    mylist[dir[11:]] = (dir,x)"
   ]
  },
  {
   "cell_type": "code",
   "execution_count": 12,
   "metadata": {},
   "outputs": [],
   "source": [
    "%matplotlib inline\n",
    "import matplotlib.pyplot as plt\n",
    "import numpy as np\n",
    "def extractfile(name):\n",
    "    \"\"\" return a dict which contains\n",
    "    1- the timestamp of start\n",
    "    2- time stamp of the end\n",
    "    3- an array of timestamps of meusures\n",
    "    4- an array of the mesures\n",
    "    this function is based on the format of the file so anychanges of the structure of\n",
    "    \"\"\"\n",
    "    with open(name) as f :\n",
    "        x = [i.split(' ') for i in f.read().split('\\n') ]\n",
    "        tstart = int(x[1][1][1:]) *1000 # transform them into ms\n",
    "        tend = int(x[2][1][1:]) *1000 #\n",
    "        ind = x.index([\"##--##\"])+1\n",
    "        times = [int(i[0][10:-1]) for i in x[ind:][0:-1:2]] ## we added -1 due to the l\n",
    "        powers = [float(i[0][6:]) for i in x[ind:][1::2]]\n",
    "        duration = (times[-1]- times[0])/1000\n",
    "        energy = sum(powers) \n",
    "    return {'tstart' : tstart ,'tend': tend ,'times':times ,'powers':powers,'duration':duration,'energy':energy } "
   ]
  },
  {
   "cell_type": "code",
   "execution_count": 13,
   "metadata": {},
   "outputs": [
    {
     "data": {
      "text/plain": [
       "{'c_rec': ('testhannoi_c_rec',\n",
       "  ['hannoi_c_rec.22.1.events',\n",
       "   'hannoi_c_rec.22.2.events',\n",
       "   'hannoi_c_rec.22.3.events',\n",
       "   'hannoi_c_rec.23.1.events',\n",
       "   'hannoi_c_rec.23.2.events',\n",
       "   'hannoi_c_rec.23.3.events']),\n",
       " 'c_rec:o1': ('testhannoi_c_rec:o1',\n",
       "  ['hannoi_c_rec:o1.22.1.events',\n",
       "   'hannoi_c_rec:o1.22.2.events',\n",
       "   'hannoi_c_rec:o1.22.3.events',\n",
       "   'hannoi_c_rec:o1.23.1.events',\n",
       "   'hannoi_c_rec:o1.23.2.events',\n",
       "   'hannoi_c_rec:o1.23.3.events']),\n",
       " 'c_rec:o2': ('testhannoi_c_rec:o2',\n",
       "  ['hannoi_c_rec:o2.22.1.events',\n",
       "   'hannoi_c_rec:o2.22.2.events',\n",
       "   'hannoi_c_rec:o2.22.3.events',\n",
       "   'hannoi_c_rec:o2.23.1.events',\n",
       "   'hannoi_c_rec:o2.23.2.events',\n",
       "   'hannoi_c_rec:o2.23.3.events']),\n",
       " 'c_rec:o3': ('testhannoi_c_rec:o3',\n",
       "  ['hannoi_c_rec:o3.22.1.events',\n",
       "   'hannoi_c_rec:o3.22.2.events',\n",
       "   'hannoi_c_rec:o3.22.3.events',\n",
       "   'hannoi_c_rec:o3.23.1.events',\n",
       "   'hannoi_c_rec:o3.23.2.events',\n",
       "   'hannoi_c_rec:o3.23.3.events']),\n",
       " 'cpp_rec': ('testhannoi_cpp_rec',\n",
       "  ['hannoi_cpp_rec.22.1.events',\n",
       "   'hannoi_cpp_rec.22.2.events',\n",
       "   'hannoi_cpp_rec.22.3.events',\n",
       "   'hannoi_cpp_rec.23.1.events',\n",
       "   'hannoi_cpp_rec.23.2.events',\n",
       "   'hannoi_cpp_rec.23.3.events']),\n",
       " 'cpp_rec:o1': ('testhannoi_cpp_rec:o1',\n",
       "  ['hannoi_cpp_rec:o1.22.1.events',\n",
       "   'hannoi_cpp_rec:o1.22.2.events',\n",
       "   'hannoi_cpp_rec:o1.22.3.events',\n",
       "   'hannoi_cpp_rec:o1.23.1.events',\n",
       "   'hannoi_cpp_rec:o1.23.2.events',\n",
       "   'hannoi_cpp_rec:o1.23.3.events']),\n",
       " 'cpp_rec:o2': ('testhannoi_cpp_rec:o2',\n",
       "  ['hannoi_cpp_rec:o2.22.1.events',\n",
       "   'hannoi_cpp_rec:o2.22.2.events',\n",
       "   'hannoi_cpp_rec:o2.22.3.events',\n",
       "   'hannoi_cpp_rec:o2.23.1.events',\n",
       "   'hannoi_cpp_rec:o2.23.2.events',\n",
       "   'hannoi_cpp_rec:o2.23.3.events']),\n",
       " 'java_rec': ('testhannoi_java_rec',\n",
       "  ['hannoi_java_rec.22.1.events',\n",
       "   'hannoi_java_rec.22.2.events',\n",
       "   'hannoi_java_rec.22.3.events',\n",
       "   'hannoi_java_rec.23.1.events',\n",
       "   'hannoi_java_rec.23.2.events',\n",
       "   'hannoi_java_rec.23.3.events']),\n",
       " 'python_rec': ('testhannoi_python_rec',\n",
       "  ['hannoi_python_rec.22.1.events',\n",
       "   'hannoi_python_rec.22.2.events',\n",
       "   'hannoi_python_rec.22.3.events',\n",
       "   'hannoi_python_rec.23.1.events',\n",
       "   'hannoi_python_rec.23.2.events',\n",
       "   'hannoi_python_rec.23.3.events'])}"
      ]
     },
     "execution_count": 13,
     "metadata": {},
     "output_type": "execute_result"
    }
   ],
   "source": [
    "mylist"
   ]
  },
  {
   "cell_type": "code",
   "execution_count": 14,
   "metadata": {},
   "outputs": [
    {
     "name": "stdout",
     "output_type": "stream",
     "text": [
      "duration 8 energy 6878 mj\n"
     ]
    },
    {
     "data": {
      "image/png": "[encoded data removed]",
      "text/plain": [
       "<matplotlib.figure.Figure at 0x7fd3d3fc0898>"
      ]
     },
     "metadata": {},
     "output_type": "display_data"
    }
   ],
   "source": [
    "import matplotlib.pyplot as plt\n",
    "plt.xlabel('time')\n",
    "plt.ylabel('power (mW)')\n",
    "tempdir,tempfile = mylist['c_rec']\n",
    "x = extractfile(tempdir+'/'+tempfile[1])\n",
    "print('duration %d energy %d mj' % (x['duration'],x['energy']))\n",
    "plt.plot([i/1000 for i in x[\"times\"]],x[\"powers\"])\n",
    "s=plt.xticks(rotation=45 ,ha='right')"
   ]
  },
  {
   "cell_type": "code",
   "execution_count": 15,
   "metadata": {},
   "outputs": [],
   "source": [
    "def energy_mesure(language):\n",
    "    l=[]\n",
    "    tempdir,templist = mylist[language]\n",
    "    for tempfile in templist:\n",
    "        x = extractfile(tempdir+'/'+tempfile)\n",
    "        l.append(x['energy'])\n",
    "    return np.mean(l) /1000"
   ]
  },
  {
   "cell_type": "code",
   "execution_count": 16,
   "metadata": {},
   "outputs": [],
   "source": [
    "curdir=!pwd\n",
    "curdir=curdir[0].split('/')[-1] #to get the name of the current floder\n",
    "curdir=curdir.split('.') # just the infos cause his name is bank.mintours/maxtours.nbit\n",
    "mintours= curdir[-3]\n",
    "maxtours=curdir[-2]\n",
    "nbiterations=curdir[-1]"
   ]
  },
  {
   "cell_type": "code",
   "execution_count": 17,
   "metadata": {},
   "outputs": [
    {
     "data": {
      "image/png": "[encoded data removed]",
      "text/plain": [
       "<matplotlib.figure.Figure at 0x7fd3d3fd30f0>"
      ]
     },
     "metadata": {},
     "output_type": "display_data"
    }
   ],
   "source": [
    "plt.xlabel('programming languages')\n",
    "plt.ylabel('energy ')\n",
    "keys = list(mylist.keys())\n",
    "values = [energy_mesure(x) for x in keys]\n",
    "axes =plt.barh(keys , values)\n",
    "for v in axes :\n",
    "    plt.text(v.get_width() +1, v.get_y()+v.get_height()/2 ,'%.2f' %v.get_width())"
   ]
  },
  {
   "cell_type": "code",
   "execution_count": null,
   "metadata": {},
   "outputs": [],
   "source": []
  }
 ],
 "metadata": {
  "kernelspec": {
   "display_name": "Python 3",
   "language": "python",
   "name": "python3"
  },
  "language_info": {
   "codemirror_mode": {
    "name": "ipython",
    "version": 3
   },
   "file_extension": ".py",
   "mimetype": "text/x-python",
   "name": "python",
   "nbconvert_exporter": "python",
   "pygments_lexer": "ipython3",
   "version": "3.6.3"
  }
 },
 "nbformat": 4,
 "nbformat_minor": 2
}
