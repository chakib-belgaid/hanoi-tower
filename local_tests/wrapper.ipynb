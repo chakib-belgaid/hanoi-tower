{
 "cells": [
  {
   "cell_type": "code",
   "execution_count": 1,
   "metadata": {},
   "outputs": [],
   "source": [
    "#mylist = !(ls | egrep .*.events )"
   ]
  },
  {
   "cell_type": "code",
   "execution_count": 2,
   "metadata": {},
   "outputs": [],
   "source": [
    "testdirs = !(ls | egrep test ) # to get all dirs\n",
    "mylist={}\n",
    "for dir in testdirs :\n",
    "    x = !(ls $dir |egrep .*.events )# each element of the list represent an implementat\n",
    "    mylist[dir[11:]] = (dir,x)"
   ]
  },
  {
   "cell_type": "code",
   "execution_count": 3,
   "metadata": {},
   "outputs": [],
   "source": [
    "%matplotlib inline\n",
    "import matplotlib.pyplot as plt\n",
    "import numpy as np\n",
    "def extractfile(name):\n",
    "    \"\"\" return a dict which contains\n",
    "    1- the timestamp of start\n",
    "    2- time stamp of the end\n",
    "    3- an array of timestamps of meusures\n",
    "    4- an array of the mesures\n",
    "    this function is based on the format of the file so anychanges of the structure of\n",
    "    \"\"\"\n",
    "    with open(name) as f :\n",
    "        x = [i.split(' ') for i in f.read().split('\\n') ]\n",
    "        ind = x.index([\"##--##\"])+1\n",
    "        times = [int(i[0][10:-1]) for i in x[ind:][0:-1:2]] ## we added -1 due to the l\n",
    "        tstart = times[0]\n",
    "        tend = times[-1]\n",
    "        powers = [float(i[0][6:]) for i in x[ind:][1::2]]\n",
    "        duration = (times[-1]- times[0])/1000\n",
    "        energy = sum(powers) \n",
    "        power = np.mean(powers)\n",
    "    return {'tstart' : tstart ,'tend': tend ,'times':times ,'powers':powers,'power':power,'duration':duration,'energy':energy } "
   ]
  },
  {
   "cell_type": "code",
   "execution_count": 4,
   "metadata": {},
   "outputs": [
    {
     "name": "stdout",
     "output_type": "stream",
     "text": [
      "duration 1 energy 6342 mj\n"
     ]
    },
    {
     "data": {
      "image/png": "[encoded data removed]",
      "text/plain": [
       "<matplotlib.figure.Figure at 0x7f20dccef860>"
      ]
     },
     "metadata": {},
     "output_type": "display_data"
    }
   ],
   "source": [
    "import matplotlib.pyplot as plt\n",
    "plt.xlabel('time')\n",
    "plt.ylabel('power (mW)')\n",
    "tempdir,tempfile = mylist['c_rec']\n",
    "x = extractfile(tempdir+'/'+tempfile[1])\n",
    "print('duration %d energy %d mj' % (x['duration'],x['energy']))\n",
    "plt.plot([i/1000 for i in x[\"times\"]],x[\"powers\"])\n",
    "s=plt.xticks(rotation=45 ,ha='right')"
   ]
  },
  {
   "cell_type": "code",
   "execution_count": 5,
   "metadata": {},
   "outputs": [],
   "source": [
    "def energy_mesure(language):\n",
    "    l=[]\n",
    "    tempdir,templist = mylist[language]\n",
    "    for tempfile  in templist:\n",
    "        x = extractfile(tempdir+'/'+tempfile)\n",
    "        l.append(x['energy'])\n",
    "    return np.mean(l) /1000"
   ]
  },
  {
   "cell_type": "code",
   "execution_count": 6,
   "metadata": {},
   "outputs": [],
   "source": [
    "def power_measure(language):\n",
    "    l=[]\n",
    "    tempdir,templist = mylist[language]\n",
    "    for tempfile in templist:\n",
    "        x = extractfile(tempdir+'/'+tempfile)\n",
    "        l.append(x['power'])\n",
    "    return np.mean(l) "
   ]
  },
  {
   "cell_type": "code",
   "execution_count": 7,
   "metadata": {
    "scrolled": true
   },
   "outputs": [],
   "source": [
    "curdir=!pwd\n",
    "curdir=curdir[0].split('/')[-1] #to get the name of the current floder\n",
    "curdir=curdir.split('.') # just the infos cause his name is bank.mintours/maxtours.nbit\n",
    "#mintours= curdir[-2]\n",
    "#maxtours=curdir[-2]\n",
    "nbiterations=curdir[-1]"
   ]
  },
  {
   "cell_type": "code",
   "execution_count": 8,
   "metadata": {},
   "outputs": [
    {
     "data": {
      "image/png": "[encoded data removed]",
      "text/plain": [
       "<matplotlib.figure.Figure at 0x7f20a9bb35f8>"
      ]
     },
     "metadata": {},
     "output_type": "display_data"
    }
   ],
   "source": [
    "plt.xlabel('programming languages')\n",
    "plt.ylabel('power')\n",
    "keys = list(mylist.keys())\n",
    "values = [power_measure(x)for x in keys]\n",
    "axes =plt.barh(keys , values)\n",
    "for v in axes :\n",
    "    plt.text(v.get_width() +1, v.get_y()+v.get_height()/2 ,'%.2f' %v.get_width())"
   ]
  },
  {
   "cell_type": "code",
   "execution_count": 9,
   "metadata": {},
   "outputs": [
    {
     "data": {
      "text/plain": [
       "{'c_rec': ('testhannoi_c_rec',\n",
       "  ['c_rec2.24.1.events',\n",
       "   'c_rec2.24.2.events',\n",
       "   'c_rec2.24.3.events',\n",
       "   'c_rec2.24.4.events',\n",
       "   'c_rec2.24.5.events']),\n",
       " 'java_rec': ('testhannoi_java_rec',\n",
       "  ['java_rec2.24.1.events',\n",
       "   'java_rec2.24.2.events',\n",
       "   'java_rec2.24.3.events',\n",
       "   'java_rec2.24.4.events',\n",
       "   'java_rec2.24.5.events'])}"
      ]
     },
     "execution_count": 9,
     "metadata": {},
     "output_type": "execute_result"
    }
   ],
   "source": [
    "mylist"
   ]
  },
  {
   "cell_type": "code",
   "execution_count": 22,
   "metadata": {},
   "outputs": [
    {
     "name": "stdout",
     "output_type": "stream",
     "text": [
      "89860.74757833127\n"
     ]
    }
   ],
   "source": [
    "x = extractfile('testhannoi_java_rec/java_rec2.24.5.events')\n",
    "print(x['energy'])"
   ]
  },
  {
   "cell_type": "code",
   "execution_count": null,
   "metadata": {},
   "outputs": [],
   "source": []
  }
 ],
 "metadata": {
  "kernelspec": {
   "display_name": "Python 3",
   "language": "python",
   "name": "python3"
  },
  "language_info": {
   "codemirror_mode": {
    "name": "ipython",
    "version": 3
   },
   "file_extension": ".py",
   "mimetype": "text/x-python",
   "name": "python",
   "nbconvert_exporter": "python",
   "pygments_lexer": "ipython3",
   "version": "3.6.3"
  }
 },
 "nbformat": 4,
 "nbformat_minor": 2
}
