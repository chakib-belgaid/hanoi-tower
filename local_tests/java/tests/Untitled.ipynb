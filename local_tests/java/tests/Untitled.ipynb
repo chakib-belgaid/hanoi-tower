{
 "cells": [
  {
   "cell_type": "code",
   "execution_count": 1,
   "metadata": {},
   "outputs": [],
   "source": [
    "l = !(ls *.events) \n",
    "l1=[]\n",
    "for f in l : \n",
    "    x= !(cat $f)\n",
    "    l1.append(x)"
   ]
  },
  {
   "cell_type": "code",
   "execution_count": 15,
   "metadata": {
    "scrolled": true
   },
   "outputs": [
    {
     "data": {
      "text/plain": [
       "['[java_rec224.10.log.events, java_rec224.1.log.events, java_rec224.2.log.events, java_rec224.3.log.events, java_rec224.4.log.events, java_rec224.5.log.events, java_rec224.6.log.events, java_rec224.7.log.events, java_rec224.8.log.events, java_rec224.9.log.events][1]']"
      ]
     },
     "execution_count": 15,
     "metadata": {},
     "output_type": "execute_result"
    }
   ],
   "source": []
  },
  {
   "cell_type": "code",
   "execution_count": null,
   "metadata": {},
   "outputs": [],
   "source": []
  }
 ],
 "metadata": {
  "kernelspec": {
   "display_name": "Python 3",
   "language": "python",
   "name": "python3"
  },
  "language_info": {
   "codemirror_mode": {
    "name": "ipython",
    "version": 3
   },
   "file_extension": ".py",
   "mimetype": "text/x-python",
   "name": "python",
   "nbconvert_exporter": "python",
   "pygments_lexer": "ipython3",
   "version": "3.6.3"
  }
 },
 "nbformat": 4,
 "nbformat_minor": 2
}
