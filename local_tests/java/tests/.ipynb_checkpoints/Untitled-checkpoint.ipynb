{
 "cells": [
  {
   "cell_type": "code",
   "execution_count": 1,
   "metadata": {},
   "outputs": [],
   "source": [
    "l = !(ls *.events) "
   ]
  },
  {
   "cell_type": "code",
   "execution_count": 4,
   "metadata": {},
   "outputs": [],
   "source": [
    "x= !(cat $(l[1])  "
   ]
  },
  {
   "cell_type": "code",
   "execution_count": 5,
   "metadata": {},
   "outputs": [
    {
     "data": {
      "text/plain": [
       "[\"cat: '[java_rec224.10.log.events,': No such file or directory\",\n",
       " 'cat: java_rec224.1.log.events,: No such file or directory',\n",
       " 'cat: java_rec224.2.log.events,: No such file or directory',\n",
       " 'cat: java_rec224.3.log.events,: No such file or directory',\n",
       " 'cat: java_rec224.4.log.events,: No such file or directory',\n",
       " 'cat: java_rec224.5.log.events,: No such file or directory',\n",
       " 'cat: java_rec224.6.log.events,: No such file or directory',\n",
       " 'cat: java_rec224.7.log.events,: No such file or directory',\n",
       " 'cat: java_rec224.8.log.events,: No such file or directory',\n",
       " \"cat: 'java_rec224.9.log.events][1]': No such file or directory\"]"
      ]
     },
     "execution_count": 5,
     "metadata": {},
     "output_type": "execute_result"
    }
   ],
   "source": [
    "x"
   ]
  },
  {
   "cell_type": "code",
   "execution_count": null,
   "metadata": {},
   "outputs": [],
   "source": []
  }
 ],
 "metadata": {
  "kernelspec": {
   "display_name": "Python 3",
   "language": "python",
   "name": "python3"
  },
  "language_info": {
   "codemirror_mode": {
    "name": "ipython",
    "version": 3
   },
   "file_extension": ".py",
   "mimetype": "text/x-python",
   "name": "python",
   "nbconvert_exporter": "python",
   "pygments_lexer": "ipython3",
   "version": "3.6.3"
  }
 },
 "nbformat": 4,
 "nbformat_minor": 2
}
