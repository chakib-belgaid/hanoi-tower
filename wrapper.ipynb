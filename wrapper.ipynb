{
 "cells": [
  {
   "cell_type": "code",
   "execution_count": 2,
   "metadata": {},
   "outputs": [],
   "source": [
    "#mylist = !(ls | egrep .*.events )"
   ]
  },
  {
   "cell_type": "code",
   "execution_count": 3,
   "metadata": {},
   "outputs": [],
   "source": [
    "testdirs = !(ls | egrep test ) # to get all dirs\n",
    "mylist={}\n",
    "for dir in testdirs :\n",
    "    x = !(ls $dir |egrep .*.events )# each element of the list represent an implementat\n",
    "    mylist[dir[11:]] = (dir,x)"
   ]
  },
  {
   "cell_type": "code",
   "execution_count": 4,
   "metadata": {},
   "outputs": [],
   "source": [
    "%matplotlib inline\n",
    "import matplotlib.pyplot as plt\n",
    "import numpy as np\n",
    "def extractfile(name):\n",
    "    \"\"\" return a dict which contains\n",
    "    1- the timestamp of start\n",
    "    2- time stamp of the end\n",
    "    3- an array of timestamps of meusures\n",
    "    4- an array of the mesures\n",
    "    this function is based on the format of the file so anychanges of the structure of\n",
    "    \"\"\"\n",
    "    with open(name) as f :\n",
    "        x = [i.split(' ') for i in f.read().split('\\n') ]\n",
    "        tstart = int(x[1][1][1:]) *1000 # transform them into ms\n",
    "        tend = int(x[2][1][1:]) *1000 #\n",
    "        ind = x.index([\"##--##\"])+1\n",
    "        times = [int(i[0][10:-1]) for i in x[ind:][0:-1:2]] ## we added -1 due to the l\n",
    "        powers = [float(i[0][6:]) for i in x[ind:][1::2]]\n",
    "        duration = (times[-1]- times[0])/1000\n",
    "        energy = sum(powers) \n",
    "    return {'tstart' : tstart ,'tend': tend ,'times':times ,'powers':powers,'duration':duration,'energy':energy } "
   ]
  },
  {
   "cell_type": "code",
   "execution_count": 5,
   "metadata": {},
   "outputs": [
    {
     "ename": "KeyError",
     "evalue": "'c_rec'",
     "output_type": "error",
     "traceback": [
      "\u001b[0;31m---------------------------------------------------------------------------\u001b[0m",
      "\u001b[0;31mKeyError\u001b[0m                                  Traceback (most recent call last)",
      "\u001b[0;32m<ipython-input-5-7c785ba73ed3>\u001b[0m in \u001b[0;36m<module>\u001b[0;34m()\u001b[0m\n\u001b[1;32m      2\u001b[0m \u001b[0mplt\u001b[0m\u001b[0;34m.\u001b[0m\u001b[0mxlabel\u001b[0m\u001b[0;34m(\u001b[0m\u001b[0;34m'time'\u001b[0m\u001b[0;34m)\u001b[0m\u001b[0;34m\u001b[0m\u001b[0m\n\u001b[1;32m      3\u001b[0m \u001b[0mplt\u001b[0m\u001b[0;34m.\u001b[0m\u001b[0mylabel\u001b[0m\u001b[0;34m(\u001b[0m\u001b[0;34m'power (mW)'\u001b[0m\u001b[0;34m)\u001b[0m\u001b[0;34m\u001b[0m\u001b[0m\n\u001b[0;32m----> 4\u001b[0;31m \u001b[0mtempdir\u001b[0m\u001b[0;34m,\u001b[0m\u001b[0mtempfile\u001b[0m \u001b[0;34m=\u001b[0m \u001b[0mmylist\u001b[0m\u001b[0;34m[\u001b[0m\u001b[0;34m'c_rec'\u001b[0m\u001b[0;34m]\u001b[0m\u001b[0;34m\u001b[0m\u001b[0m\n\u001b[0m\u001b[1;32m      5\u001b[0m \u001b[0mx\u001b[0m \u001b[0;34m=\u001b[0m \u001b[0mextractfile\u001b[0m\u001b[0;34m(\u001b[0m\u001b[0mtempdir\u001b[0m\u001b[0;34m+\u001b[0m\u001b[0;34m'/'\u001b[0m\u001b[0;34m+\u001b[0m\u001b[0mtempfile\u001b[0m\u001b[0;34m[\u001b[0m\u001b[0;36m1\u001b[0m\u001b[0;34m]\u001b[0m\u001b[0;34m)\u001b[0m\u001b[0;34m\u001b[0m\u001b[0m\n\u001b[1;32m      6\u001b[0m \u001b[0mprint\u001b[0m\u001b[0;34m(\u001b[0m\u001b[0;34m'duration %d energy %d mj'\u001b[0m \u001b[0;34m%\u001b[0m \u001b[0;34m(\u001b[0m\u001b[0mx\u001b[0m\u001b[0;34m[\u001b[0m\u001b[0;34m'duration'\u001b[0m\u001b[0;34m]\u001b[0m\u001b[0;34m,\u001b[0m\u001b[0mx\u001b[0m\u001b[0;34m[\u001b[0m\u001b[0;34m'energy'\u001b[0m\u001b[0;34m]\u001b[0m\u001b[0;34m)\u001b[0m\u001b[0;34m)\u001b[0m\u001b[0;34m\u001b[0m\u001b[0m\n",
      "\u001b[0;31mKeyError\u001b[0m: 'c_rec'"
     ]
    },
    {
     "data": {
      "image/png": "[encoded data removed]",
      "text/plain": [
       "<matplotlib.figure.Figure at 0x7fe3bd7360b8>"
      ]
     },
     "metadata": {},
     "output_type": "display_data"
    }
   ],
   "source": [
    "import matplotlib.pyplot as plt\n",
    "plt.xlabel('time')\n",
    "plt.ylabel('power (mW)')\n",
    "tempdir,tempfile = mylist['c_rec']\n",
    "x = extractfile(tempdir+'/'+tempfile[1])\n",
    "print('duration %d energy %d mj' % (x['duration'],x['energy']))\n",
    "plt.plot([i/1000 for i in x[\"times\"]],x[\"powers\"])\n",
    "s=plt.xticks(rotation=45 ,ha='right')"
   ]
  },
  {
   "cell_type": "code",
   "execution_count": null,
   "metadata": {},
   "outputs": [],
   "source": [
    "def energy_mesure(language):\n",
    "    l=[]\n",
    "    tempdir,templist = mylist[language]\n",
    "    for tempfile in templist:\n",
    "        x = extractfile(tempdir+'/'+tempfile)\n",
    "        l.append(x['energy'])\n",
    "    return np.mean(l) /1000"
   ]
  },
  {
   "cell_type": "code",
   "execution_count": null,
   "metadata": {},
   "outputs": [],
   "source": [
    "curdir=!pwd\n",
    "curdir=curdir[0].split('/')[-1] #to get the name of the current floder\n",
    "curdir=curdir.split('.') # just the infos cause his name is bank.mintours/maxtours.nbit\n",
    "mintours= curdir[-3]\n",
    "maxtours=curdir[-2]\n",
    "nbiterations=curdir[-1]"
   ]
  },
  {
   "cell_type": "code",
   "execution_count": null,
   "metadata": {},
   "outputs": [],
   "source": [
    "plt.xlabel('programming languages')\n",
    "plt.ylabel('energy ')\n",
    "keys = list(mylist.keys())\n",
    "values = [energy_mesure(x) for x in keys]\n",
    "axes =plt.barh(keys , values)\n",
    "for v in axes :\n",
    "    plt.text(v.get_width() +1, v.get_y()+v.get_height()/2 ,'%.2f' %v.get_width())"
   ]
  }
 ],
 "metadata": {
  "kernelspec": {
   "display_name": "Python 3",
   "language": "python",
   "name": "python3"
  },
  "language_info": {
   "codemirror_mode": {
    "name": "ipython",
    "version": 3
   },
   "file_extension": ".py",
   "mimetype": "text/x-python",
   "name": "python",
   "nbconvert_exporter": "python",
   "pygments_lexer": "ipython3",
   "version": "3.6.3"
  }
 },
 "nbformat": 4,
 "nbformat_minor": 2
}
