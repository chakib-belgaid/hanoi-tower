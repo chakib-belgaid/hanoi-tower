{
 "cells": [
  {
   "cell_type": "code",
   "execution_count": 3,
   "metadata": {},
   "outputs": [],
   "source": [
    "l = !( ls)"
   ]
  },
  {
   "cell_type": "code",
   "execution_count": 4,
   "metadata": {},
   "outputs": [
    {
     "data": {
      "text/plain": [
       "['bank.22_22.4',\n",
       " 'bank.22_23.3',\n",
       " 'bank.22_25.10',\n",
       " 'bank.sh',\n",
       " 'implementations',\n",
       " 'launcher.sh',\n",
       " 'local_tests',\n",
       " 'powerapi-cli',\n",
       " 'Untitled.ipynb',\n",
       " 'wrapper.ipynb',\n",
       " 'wrapper .pdf']"
      ]
     },
     "execution_count": 4,
     "metadata": {},
     "output_type": "execute_result"
    }
   ],
   "source": [
    "l"
   ]
  },
  {
   "cell_type": "code",
   "execution_count": null,
   "metadata": {},
   "outputs": [],
   "source": []
  }
 ],
 "metadata": {
  "kernelspec": {
   "display_name": "Python 3",
   "language": "python",
   "name": "python3"
  }
 },
 "nbformat": 4,
 "nbformat_minor": 2
}
